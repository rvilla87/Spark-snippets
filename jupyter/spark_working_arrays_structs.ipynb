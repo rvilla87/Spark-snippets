{
 "cells": [
  {
   "cell_type": "markdown",
   "metadata": {},
   "source": [
    "# Spark - Working with arrays of structs\n",
    "\n",
    "In this Scala notebook we are going to load a json (inferring the schema) which has an array of structs and we are going to:\n",
    " - Explode an array.\n",
    " - Modify an array of structs renaming its elements and adding a new element."
   ]
  },
  {
   "cell_type": "code",
   "execution_count": 1,
   "metadata": {},
   "outputs": [
    {
     "data": {
      "text/plain": [
       "\u001b[32mimport \u001b[39m\u001b[36m$ivy.$                                  \u001b[39m"
      ]
     },
     "execution_count": 1,
     "metadata": {},
     "output_type": "execute_result"
    }
   ],
   "source": [
    "import $ivy.`org.apache.spark::spark-sql:2.4.0`"
   ]
  },
  {
   "cell_type": "code",
   "execution_count": 2,
   "metadata": {},
   "outputs": [
    {
     "data": {
      "text/plain": [
       "\u001b[32mimport \u001b[39m\u001b[36morg.apache.spark.sql.SparkSession\r\n",
       "\u001b[39m\r\n",
       "\u001b[32mimport \u001b[39m\u001b[36morg.apache.spark.sql.types._\r\n",
       "\u001b[39m\r\n",
       "\u001b[32mimport \u001b[39m\u001b[36morg.apache.spark.sql.functions._\u001b[39m"
      ]
     },
     "execution_count": 2,
     "metadata": {},
     "output_type": "execute_result"
    }
   ],
   "source": [
    "import org.apache.spark.sql.SparkSession\n",
    "import org.apache.spark.sql.types._\n",
    "import org.apache.spark.sql.functions._"
   ]
  },
  {
   "cell_type": "code",
   "execution_count": 4,
   "metadata": {},
   "outputs": [
    {
     "data": {
      "text/plain": [
       "\u001b[36mspark\u001b[39m: \u001b[32mSparkSession\u001b[39m = org.apache.spark.sql.SparkSession@2e2dfbc6"
      ]
     },
     "execution_count": 4,
     "metadata": {},
     "output_type": "execute_result"
    }
   ],
   "source": [
    "val spark = SparkSession.builder().appName(\"Spark\").master(\"local[*]\").getOrCreate()"
   ]
  },
  {
   "cell_type": "code",
   "execution_count": 5,
   "metadata": {},
   "outputs": [
    {
     "data": {
      "text/plain": [
       "\u001b[32mimport \u001b[39m\u001b[36mspark.implicits._\u001b[39m"
      ]
     },
     "execution_count": 5,
     "metadata": {},
     "output_type": "execute_result"
    }
   ],
   "source": [
    "import spark.implicits._"
   ]
  },
  {
   "cell_type": "code",
   "execution_count": 6,
   "metadata": {},
   "outputs": [
    {
     "data": {
      "text/plain": [
       "\u001b[36mcolorsDF\u001b[39m: \u001b[32morg\u001b[39m.\u001b[32mapache\u001b[39m.\u001b[32mspark\u001b[39m.\u001b[32msql\u001b[39m.\u001b[32mpackage\u001b[39m.\u001b[32mDataFrame\u001b[39m = [colors: array<struct<code:struct<hex:string,rgb:struct<Blue: :bigint,Green: :bigint,Red: :bigint>>,color:string,old_tags:array<struct<old_tags_names:array<string>,old_tags_values:array<bigint>>>,type:string>>]"
      ]
     },
     "execution_count": 6,
     "metadata": {},
     "output_type": "execute_result"
    }
   ],
   "source": [
    "val colorsDF = spark.read.option(\"multiLine\", true).json(\"../files/colors.json\")"
   ]
  },
  {
   "cell_type": "markdown",
   "metadata": {},
   "source": [
    "Once we have read the json, let's see the schema and show the dataframe content to see what we have:"
   ]
  },
  {
   "cell_type": "code",
   "execution_count": 7,
   "metadata": {},
   "outputs": [
    {
     "name": "stdout",
     "output_type": "stream",
     "text": [
      "root\n",
      " |-- colors: array (nullable = true)\n",
      " |    |-- element: struct (containsNull = true)\n",
      " |    |    |-- code: struct (nullable = true)\n",
      " |    |    |    |-- hex: string (nullable = true)\n",
      " |    |    |    |-- rgb: struct (nullable = true)\n",
      " |    |    |    |    |-- Blue: : long (nullable = true)\n",
      " |    |    |    |    |-- Green: : long (nullable = true)\n",
      " |    |    |    |    |-- Red: : long (nullable = true)\n",
      " |    |    |-- color: string (nullable = true)\n",
      " |    |    |-- old_tags: array (nullable = true)\n",
      " |    |    |    |-- element: struct (containsNull = true)\n",
      " |    |    |    |    |-- old_tags_names: array (nullable = true)\n",
      " |    |    |    |    |    |-- element: string (containsNull = true)\n",
      " |    |    |    |    |-- old_tags_values: array (nullable = true)\n",
      " |    |    |    |    |    |-- element: long (containsNull = true)\n",
      " |    |    |-- type: string (nullable = true)\n",
      "\n"
     ]
    }
   ],
   "source": [
    "colorsDF.printSchema"
   ]
  },
  {
   "cell_type": "code",
   "execution_count": 8,
   "metadata": {},
   "outputs": [
    {
     "name": "stdout",
     "output_type": "stream",
     "text": [
      "+---------------------------------------------------------------------------------------------------------------------------------------------------------------------------------------------------------------+\n",
      "|colors                                                                                                                                                                                                         |\n",
      "+---------------------------------------------------------------------------------------------------------------------------------------------------------------------------------------------------------------+\n",
      "|[[[#000, [255, 255, 255]], black, [[[tag1, tag2, tag3],], [, [10, 22, 60]]], primary], [[#FFF, [0, 0, 0]], white, [[[tag4, tag5],], [, [5, 2]]],], [[#FF0, [0, 0, 255]], red, [[[tag6],], [, [100]]], primary]]|\n",
      "+---------------------------------------------------------------------------------------------------------------------------------------------------------------------------------------------------------------+\n",
      "\n"
     ]
    }
   ],
   "source": [
    "colorsDF.show(false)"
   ]
  },
  {
   "cell_type": "markdown",
   "metadata": {},
   "source": [
    "First, let's explode the _colors_ array and show 1 row for each color:"
   ]
  },
  {
   "cell_type": "code",
   "execution_count": 9,
   "metadata": {},
   "outputs": [
    {
     "data": {
      "text/plain": [
       "\u001b[36mexploded_colors\u001b[39m: \u001b[32morg\u001b[39m.\u001b[32mapache\u001b[39m.\u001b[32mspark\u001b[39m.\u001b[32msql\u001b[39m.\u001b[32mpackage\u001b[39m.\u001b[32mDataFrame\u001b[39m = [color: string, type: string ... 2 more fields]"
      ]
     },
     "execution_count": 9,
     "metadata": {},
     "output_type": "execute_result"
    }
   ],
   "source": [
    "val exploded_colors = colorsDF\n",
    "    .withColumn(\"colors\", explode($\"colors\"))\n",
    "    .select(\"colors.color\", \"colors.type\", \"colors.code\", \"colors.old_tags\")"
   ]
  },
  {
   "cell_type": "markdown",
   "metadata": {},
   "source": [
    "Let's see the new schema and content:"
   ]
  },
  {
   "cell_type": "code",
   "execution_count": 10,
   "metadata": {},
   "outputs": [
    {
     "name": "stdout",
     "output_type": "stream",
     "text": [
      "root\n",
      " |-- color: string (nullable = true)\n",
      " |-- type: string (nullable = true)\n",
      " |-- code: struct (nullable = true)\n",
      " |    |-- hex: string (nullable = true)\n",
      " |    |-- rgb: struct (nullable = true)\n",
      " |    |    |-- Blue: : long (nullable = true)\n",
      " |    |    |-- Green: : long (nullable = true)\n",
      " |    |    |-- Red: : long (nullable = true)\n",
      " |-- old_tags: array (nullable = true)\n",
      " |    |-- element: struct (containsNull = true)\n",
      " |    |    |-- old_tags_names: array (nullable = true)\n",
      " |    |    |    |-- element: string (containsNull = true)\n",
      " |    |    |-- old_tags_values: array (nullable = true)\n",
      " |    |    |    |-- element: long (containsNull = true)\n",
      "\n"
     ]
    }
   ],
   "source": [
    "exploded_colors.printSchema"
   ]
  },
  {
   "cell_type": "code",
   "execution_count": 11,
   "metadata": {},
   "outputs": [
    {
     "name": "stdout",
     "output_type": "stream",
     "text": [
      "+-----+-------+-----------------------+-----------------------------------------+\n",
      "|color|type   |code                   |old_tags                                 |\n",
      "+-----+-------+-----------------------+-----------------------------------------+\n",
      "|black|primary|[#000, [255, 255, 255]]|[[[tag1, tag2, tag3],], [, [10, 22, 60]]]|\n",
      "|white|null   |[#FFF, [0, 0, 0]]      |[[[tag4, tag5],], [, [5, 2]]]            |\n",
      "|red  |primary|[#FF0, [0, 0, 255]]    |[[[tag6],], [, [100]]]                   |\n",
      "+-----+-------+-----------------------+-----------------------------------------+\n",
      "\n"
     ]
    }
   ],
   "source": [
    "exploded_colors.show(false)"
   ]
  },
  {
   "cell_type": "markdown",
   "metadata": {},
   "source": [
    "Now let's work with `old_tags` array of structs (which contains `old_tags_names` and `old_tags_values`).\n",
    "\n",
    "Let's try by **renaming the struct and its elements** with `new` instead of `old` **and adding a new element**: `new_tag_description`."
   ]
  },
  {
   "cell_type": "code",
   "execution_count": 12,
   "metadata": {},
   "outputs": [
    {
     "name": "stdout",
     "output_type": "stream",
     "text": [
      "root\n",
      " |-- color: string (nullable = true)\n",
      " |-- type: string (nullable = true)\n",
      " |-- code: struct (nullable = true)\n",
      " |    |-- hex: string (nullable = true)\n",
      " |    |-- rgb: struct (nullable = true)\n",
      " |    |    |-- Blue: : long (nullable = true)\n",
      " |    |    |-- Green: : long (nullable = true)\n",
      " |    |    |-- Red: : long (nullable = true)\n",
      " |-- old_tags: array (nullable = true)\n",
      " |    |-- element: struct (containsNull = true)\n",
      " |    |    |-- old_tags_names: array (nullable = true)\n",
      " |    |    |    |-- element: string (containsNull = true)\n",
      " |    |    |-- old_tags_values: array (nullable = true)\n",
      " |    |    |    |-- element: long (containsNull = true)\n",
      " |-- new_tags: struct (nullable = false)\n",
      " |    |-- new_tags_names: array (nullable = true)\n",
      " |    |    |-- element: array (containsNull = true)\n",
      " |    |    |    |-- element: string (containsNull = true)\n",
      " |    |-- new_tags_values: array (nullable = true)\n",
      " |    |    |-- element: array (containsNull = true)\n",
      " |    |    |    |-- element: long (containsNull = true)\n",
      " |    |-- new_tag_description: array (nullable = false)\n",
      " |    |    |-- element: string (containsNull = false)\n",
      "\n"
     ]
    }
   ],
   "source": [
    "exploded_colors\n",
    "    .withColumn(\"new_tags\",\n",
    "             struct(\n",
    "                 col(\"old_tags.old_tags_names\").as(\"new_tags_names\"),\n",
    "                 col(\"old_tags.old_tags_values\").as(\"new_tags_values\"),\n",
    "                 array(lit(\"\")).as(\"new_tag_description\")\n",
    "                    )\n",
    "               ).printSchema"
   ]
  },
  {
   "cell_type": "markdown",
   "metadata": {},
   "source": [
    "This is not what we want. Instead of having an array of struct, we have a struct of multiples arrays.\n",
    "\n",
    "We need to use the [`arrays_zip`](https://spark.apache.org/docs/latest/api/scala/index.html#org.apache.spark.sql.functions) function (new in Spark 2.4.0):"
   ]
  },
  {
   "cell_type": "code",
   "execution_count": 13,
   "metadata": {},
   "outputs": [
    {
     "name": "stdout",
     "output_type": "stream",
     "text": [
      "root\n",
      " |-- color: string (nullable = true)\n",
      " |-- type: string (nullable = true)\n",
      " |-- code: struct (nullable = true)\n",
      " |    |-- hex: string (nullable = true)\n",
      " |    |-- rgb: struct (nullable = true)\n",
      " |    |    |-- Blue: : long (nullable = true)\n",
      " |    |    |-- Green: : long (nullable = true)\n",
      " |    |    |-- Red: : long (nullable = true)\n",
      " |-- old_tags: array (nullable = true)\n",
      " |    |-- element: struct (containsNull = true)\n",
      " |    |    |-- old_tags_names: array (nullable = true)\n",
      " |    |    |    |-- element: string (containsNull = true)\n",
      " |    |    |-- old_tags_values: array (nullable = true)\n",
      " |    |    |    |-- element: long (containsNull = true)\n",
      " |-- new_tags: array (nullable = true)\n",
      " |    |-- element: struct (containsNull = false)\n",
      " |    |    |-- 0: array (nullable = true)\n",
      " |    |    |    |-- element: string (containsNull = true)\n",
      " |    |    |-- 1: array (nullable = true)\n",
      " |    |    |    |-- element: long (containsNull = true)\n",
      " |    |    |-- 2: array (nullable = true)\n",
      " |    |    |    |-- element: string (containsNull = false)\n",
      "\n"
     ]
    }
   ],
   "source": [
    "exploded_colors\n",
    "    .withColumn(\"new_tags\",\n",
    "             arrays_zip(\n",
    "                 col(\"old_tags.old_tags_names\").as(\"new_tags_names\"),\n",
    "                 col(\"old_tags.old_tags_values\").as(\"new_tags_values\"),\n",
    "                 array(array(lit(\"Description\"))).as(\"new_tag_description\")\n",
    "                    )\n",
    "               )\n",
    ".printSchema"
   ]
  },
  {
   "cell_type": "markdown",
   "metadata": {},
   "source": [
    "But as we can see, the elements of the struct **were not renamed**.\n",
    "\n",
    "In order to solve this, we have to create a schema with the new array of struct..."
   ]
  },
  {
   "cell_type": "code",
   "execution_count": 14,
   "metadata": {},
   "outputs": [
    {
     "data": {
      "text/plain": [
       "\u001b[36mnew_tags_schema\u001b[39m: \u001b[32mArrayType\u001b[39m = \u001b[33mArrayType\u001b[39m(\n",
       "  StructType(StructField(new_tags_names,ArrayType(StringType,true),true), StructField(new_tags_values,ArrayType(LongType,true),true), StructField(new_tag_description,ArrayType(StringType,true),true)),\n",
       "  \u001b[32mtrue\u001b[39m\n",
       ")"
      ]
     },
     "execution_count": 14,
     "metadata": {},
     "output_type": "execute_result"
    }
   ],
   "source": [
    "val new_tags_schema = ArrayType(new StructType()\n",
    "    .add(\"new_tags_names\", ArrayType(StringType))\n",
    "    .add(\"new_tags_values\",  ArrayType(LongType))\n",
    "    .add(\"new_tag_description\", ArrayType(StringType))\n",
    "    )"
   ]
  },
  {
   "cell_type": "markdown",
   "metadata": {},
   "source": [
    "... and **apply the schema** to the struct that we have just created by using `arrays_zip`:"
   ]
  },
  {
   "cell_type": "code",
   "execution_count": 15,
   "metadata": {},
   "outputs": [
    {
     "name": "stdout",
     "output_type": "stream",
     "text": [
      "root\n",
      " |-- color: string (nullable = true)\n",
      " |-- type: string (nullable = true)\n",
      " |-- code: struct (nullable = true)\n",
      " |    |-- hex: string (nullable = true)\n",
      " |    |-- rgb: struct (nullable = true)\n",
      " |    |    |-- Blue: : long (nullable = true)\n",
      " |    |    |-- Green: : long (nullable = true)\n",
      " |    |    |-- Red: : long (nullable = true)\n",
      " |-- old_tags: array (nullable = true)\n",
      " |    |-- element: struct (containsNull = true)\n",
      " |    |    |-- old_tags_names: array (nullable = true)\n",
      " |    |    |    |-- element: string (containsNull = true)\n",
      " |    |    |-- old_tags_values: array (nullable = true)\n",
      " |    |    |    |-- element: long (containsNull = true)\n",
      " |-- new_tags: array (nullable = true)\n",
      " |    |-- element: struct (containsNull = true)\n",
      " |    |    |-- new_tags_names: array (nullable = true)\n",
      " |    |    |    |-- element: string (containsNull = true)\n",
      " |    |    |-- new_tags_values: array (nullable = true)\n",
      " |    |    |    |-- element: long (containsNull = true)\n",
      " |    |    |-- new_tag_description: array (nullable = true)\n",
      " |    |    |    |-- element: string (containsNull = true)\n",
      "\n",
      "+-----+-------+-----------------------+-----------------------------------------+---------------------------------------------------------+\n",
      "|color|type   |code                   |old_tags                                 |new_tags                                                 |\n",
      "+-----+-------+-----------------------+-----------------------------------------+---------------------------------------------------------+\n",
      "|black|primary|[#000, [255, 255, 255]]|[[[tag1, tag2, tag3],], [, [10, 22, 60]]]|[[[tag1, tag2, tag3],, [Description]], [, [10, 22, 60],]]|\n",
      "|white|null   |[#FFF, [0, 0, 0]]      |[[[tag4, tag5],], [, [5, 2]]]            |[[[tag4, tag5],, [Description]], [, [5, 2],]]            |\n",
      "|red  |primary|[#FF0, [0, 0, 255]]    |[[[tag6],], [, [100]]]                   |[[[tag6],, [Description]], [, [100],]]                   |\n",
      "+-----+-------+-----------------------+-----------------------------------------+---------------------------------------------------------+\n",
      "\n"
     ]
    },
    {
     "data": {
      "text/plain": [
       "\u001b[36mnew_colors\u001b[39m: \u001b[32morg\u001b[39m.\u001b[32mapache\u001b[39m.\u001b[32mspark\u001b[39m.\u001b[32msql\u001b[39m.\u001b[32mpackage\u001b[39m.\u001b[32mDataFrame\u001b[39m = [color: string, type: string ... 3 more fields]"
      ]
     },
     "execution_count": 15,
     "metadata": {},
     "output_type": "execute_result"
    }
   ],
   "source": [
    "val new_colors = exploded_colors\n",
    "    .withColumn(\"new_tags\",\n",
    "             arrays_zip(\n",
    "                 col(\"old_tags.old_tags_names\").as(\"new_tags_names\"),\n",
    "                 col(\"old_tags.old_tags_values\").as(\"new_tags_values\"),\n",
    "                 array(array(lit(\"Description\"))).as(\"new_tag_description\")\n",
    "                    ).cast(new_tags_schema)\n",
    "               )\n",
    "\n",
    "new_colors.printSchema\n",
    "new_colors.show(false)"
   ]
  },
  {
   "cell_type": "markdown",
   "metadata": {},
   "source": [
    "Here we can see that both structures have the same `tags_names` and `tags_values` data:"
   ]
  },
  {
   "cell_type": "code",
   "execution_count": 16,
   "metadata": {},
   "outputs": [
    {
     "name": "stdout",
     "output_type": "stream",
     "text": [
      "+-----------------------------------------+---------------------------------------------------------+\n",
      "|old_tags                                 |new_tags                                                 |\n",
      "+-----------------------------------------+---------------------------------------------------------+\n",
      "|[[[tag1, tag2, tag3],], [, [10, 22, 60]]]|[[[tag1, tag2, tag3],, [Description]], [, [10, 22, 60],]]|\n",
      "|[[[tag4, tag5],], [, [5, 2]]]            |[[[tag4, tag5],, [Description]], [, [5, 2],]]            |\n",
      "|[[[tag6],], [, [100]]]                   |[[[tag6],, [Description]], [, [100],]]                   |\n",
      "+-----------------------------------------+---------------------------------------------------------+\n",
      "\n"
     ]
    }
   ],
   "source": [
    "new_colors\n",
    "    .select(\"old_tags\", \"new_tags\")\n",
    "    .show(false)"
   ]
  },
  {
   "cell_type": "markdown",
   "metadata": {},
   "source": [
    "Finally, we will show the expected result:"
   ]
  },
  {
   "cell_type": "code",
   "execution_count": 17,
   "metadata": {
    "scrolled": false
   },
   "outputs": [
    {
     "name": "stdout",
     "output_type": "stream",
     "text": [
      "root\n",
      " |-- color: string (nullable = true)\n",
      " |-- type: string (nullable = true)\n",
      " |-- code: struct (nullable = true)\n",
      " |    |-- hex: string (nullable = true)\n",
      " |    |-- rgb: struct (nullable = true)\n",
      " |    |    |-- Blue: : long (nullable = true)\n",
      " |    |    |-- Green: : long (nullable = true)\n",
      " |    |    |-- Red: : long (nullable = true)\n",
      " |-- new_tags: array (nullable = true)\n",
      " |    |-- element: struct (containsNull = true)\n",
      " |    |    |-- new_tags_names: array (nullable = true)\n",
      " |    |    |    |-- element: string (containsNull = true)\n",
      " |    |    |-- new_tags_values: array (nullable = true)\n",
      " |    |    |    |-- element: long (containsNull = true)\n",
      " |    |    |-- new_tag_description: array (nullable = true)\n",
      " |    |    |    |-- element: string (containsNull = true)\n",
      "\n",
      "+-----+-------+-----------------------+---------------------------------------------------------+\n",
      "|color|type   |code                   |new_tags                                                 |\n",
      "+-----+-------+-----------------------+---------------------------------------------------------+\n",
      "|black|primary|[#000, [255, 255, 255]]|[[[tag1, tag2, tag3],, [Description]], [, [10, 22, 60],]]|\n",
      "|white|null   |[#FFF, [0, 0, 0]]      |[[[tag4, tag5],, [Description]], [, [5, 2],]]            |\n",
      "|red  |primary|[#FF0, [0, 0, 255]]    |[[[tag6],, [Description]], [, [100],]]                   |\n",
      "+-----+-------+-----------------------+---------------------------------------------------------+\n",
      "\n"
     ]
    },
    {
     "data": {
      "text/plain": [
       "\u001b[36mfinal_colors\u001b[39m: \u001b[32morg\u001b[39m.\u001b[32mapache\u001b[39m.\u001b[32mspark\u001b[39m.\u001b[32msql\u001b[39m.\u001b[32mpackage\u001b[39m.\u001b[32mDataFrame\u001b[39m = [color: string, type: string ... 2 more fields]"
      ]
     },
     "execution_count": 17,
     "metadata": {},
     "output_type": "execute_result"
    }
   ],
   "source": [
    "val final_colors = new_colors.drop(\"old_tags\")\n",
    "\n",
    "final_colors.printSchema\n",
    "final_colors.show(false)"
   ]
  }
 ],
 "metadata": {
  "kernelspec": {
   "display_name": "Scala 2.11.11",
   "language": "scala",
   "name": "scala"
  },
  "language_info": {
   "codemirror_mode": "text/x-scala",
   "file_extension": ".scala",
   "mimetype": "text/x-scala",
   "name": "scala211",
   "nbconvert_exporter": "script",
   "pygments_lexer": "scala",
   "version": "2.11.11"
  }
 },
 "nbformat": 4,
 "nbformat_minor": 2
}
