{
 "cells": [
  {
   "cell_type": "markdown",
   "metadata": {},
   "source": [
    "# Spark - Working with timestamps in a different timezone\n",
    "\n",
    "In this Scala notebook we are going to work with timestamps which are in a different timezone than ours.\n",
    "\n",
    "## Init tasks"
   ]
  },
  {
   "cell_type": "code",
   "execution_count": 1,
   "metadata": {},
   "outputs": [
    {
     "data": {
      "text/plain": [
       "\u001b[32mimport \u001b[39m\u001b[36m$ivy.$                                  \u001b[39m"
      ]
     },
     "execution_count": 1,
     "metadata": {},
     "output_type": "execute_result"
    }
   ],
   "source": [
    "import $ivy.`org.apache.spark::spark-sql:2.4.0`"
   ]
  },
  {
   "cell_type": "code",
   "execution_count": 2,
   "metadata": {},
   "outputs": [
    {
     "data": {
      "text/plain": [
       "\u001b[32mimport \u001b[39m\u001b[36morg.apache.spark.sql.SparkSession\r\n",
       "\u001b[39m\r\n",
       "\u001b[32mimport \u001b[39m\u001b[36morg.apache.spark.sql.types._\r\n",
       "\u001b[39m\r\n",
       "\u001b[32mimport \u001b[39m\u001b[36morg.apache.spark.sql.functions._\u001b[39m"
      ]
     },
     "execution_count": 2,
     "metadata": {},
     "output_type": "execute_result"
    }
   ],
   "source": [
    "import org.apache.spark.sql.SparkSession\n",
    "import org.apache.spark.sql.types._\n",
    "import org.apache.spark.sql.functions._"
   ]
  },
  {
   "cell_type": "code",
   "execution_count": 4,
   "metadata": {},
   "outputs": [
    {
     "data": {
      "text/plain": [
       "\u001b[36mspark\u001b[39m: \u001b[32mSparkSession\u001b[39m = org.apache.spark.sql.SparkSession@677af6a1"
      ]
     },
     "execution_count": 4,
     "metadata": {},
     "output_type": "execute_result"
    }
   ],
   "source": [
    "val spark = SparkSession.builder().appName(\"Spark\").master(\"local[*]\").getOrCreate()"
   ]
  },
  {
   "cell_type": "code",
   "execution_count": 5,
   "metadata": {},
   "outputs": [
    {
     "data": {
      "text/plain": [
       "\u001b[32mimport \u001b[39m\u001b[36mspark.implicits._\u001b[39m"
      ]
     },
     "execution_count": 5,
     "metadata": {},
     "output_type": "execute_result"
    }
   ],
   "source": [
    "import spark.implicits._"
   ]
  },
  {
   "cell_type": "markdown",
   "metadata": {},
   "source": [
    "## Timezones and timestamp functions\n",
    "\n",
    "Before we begin we need to take a few things into consideration:\n",
    "\n",
    "- [UTC is indicated by the letter Z](https://www.w3.org/TR/timezone/) (for example 08:00:00**Z**)\n",
    "- What is **Daylight Saving Time** ([DST](https://www.timeanddate.com/time/dst/))\n",
    "- [List of Time zone ID](https://www.ibm.com/support/knowledgecenter/en/SSAW57_8.5.5/com.ibm.websphere.nd.multiplatform.doc/ae/rrun_svr_timezones.html)\n",
    "- [Timestamp functions](https://spark.apache.org/docs/latest/api/scala/index.html#org.apache.spark.sql.functions$): We have to talke a look at the description of these functions: `to_timestamp`, `to_utc_timestamp` and `from_utc_timestamp`.\n",
    "\n",
    "For example, we can use `to_utc_timestamp` to read a timestamp from UTC+1 timezone and show it in UTC. By using `from_utc_timestamp` we can read that same UTC timestamp and show it in UTC+1.\n",
    "\n",
    "Now, let's start by seeing the timezone in where we are:"
   ]
  },
  {
   "cell_type": "code",
   "execution_count": 6,
   "metadata": {},
   "outputs": [
    {
     "data": {
      "text/plain": [
       "\u001b[36mres5\u001b[39m: \u001b[32mString\u001b[39m = \u001b[32m\"Europe/Paris\"\u001b[39m"
      ]
     },
     "execution_count": 6,
     "metadata": {},
     "output_type": "execute_result"
    }
   ],
   "source": [
    "spark.conf.get(\"spark.sql.session.timeZone\")"
   ]
  },
  {
   "cell_type": "markdown",
   "metadata": {},
   "source": [
    "`Europe/Paris` is UTC+1 (with no DST).\n",
    "\n",
    "## Casting timestamp for a given timezone\n",
    "Then, let's create a dataframe with some timestamps in string type:"
   ]
  },
  {
   "cell_type": "code",
   "execution_count": 7,
   "metadata": {},
   "outputs": [
    {
     "data": {
      "text/plain": [
       "\u001b[36mdf\u001b[39m: \u001b[32morg\u001b[39m.\u001b[32mapache\u001b[39m.\u001b[32mspark\u001b[39m.\u001b[32msql\u001b[39m.\u001b[32mpackage\u001b[39m.\u001b[32mDataFrame\u001b[39m = [id: int, myTS: string]"
      ]
     },
     "execution_count": 7,
     "metadata": {},
     "output_type": "execute_result"
    }
   ],
   "source": [
    "val df = Seq(                     // Assuming timestamps are in the same timezone as ours: UTC+1\n",
    "  (1, \"2018-03-24 10:10:10.100\"), // No DST (UTC+1) -- to UTC must be 9h\n",
    "  (2, \"2018-03-24 10:10:10.100Z\"), // No DST (UTC) -- to UTC must be 10h\n",
    "  (3, \"2018-03-25 10:10:10.100\"), // DST (UTC+2) -- to UTC must be 8h\n",
    "  (4, \"2018-03-25 10:10:10.100Z\"), // DST (UTC) -- to UTC must be 10h\n",
    "  (5, \"2018-11-21 11:11:11.111\"), // No DST (UTC+1) -- to UTC must be 10h\n",
    "  (6, \"2018-11-21 11:11:11.111Z\"), // No DST (UTC) -- to UTC must be 11h\n",
    "  (7, \"2018-12-22 22:22:22.222\") // No DST (UTC+1) -- to UTC must be 21h\n",
    ").toDF(\"id\", \"myTS\")"
   ]
  },
  {
   "cell_type": "markdown",
   "metadata": {},
   "source": [
    "Let's add 2 new columns in order to see what we are doing:\n",
    " - `myTS_UTC` will have the original timestamp converted to UTC timestamp type.\n",
    " - `myTS_UTC+1` will use the previous column in order to show it in UTC+1."
   ]
  },
  {
   "cell_type": "code",
   "execution_count": 8,
   "metadata": {},
   "outputs": [
    {
     "name": "stdout",
     "output_type": "stream",
     "text": [
      "+---+------------------------+-----------------------+-----------------------+\n",
      "|id |myTS                    |myTS_UTC               |myTS_UTC+1             |\n",
      "+---+------------------------+-----------------------+-----------------------+\n",
      "|1  |2018-03-24 10:10:10.100 |2018-03-24 09:10:10.1  |2018-03-24 10:10:10.1  |\n",
      "|2  |2018-03-24 10:10:10.100Z|2018-03-24 10:10:10.1  |2018-03-24 11:10:10.1  |\n",
      "|3  |2018-03-25 10:10:10.100 |2018-03-25 08:10:10.1  |2018-03-25 10:10:10.1  |\n",
      "|4  |2018-03-25 10:10:10.100Z|2018-03-25 10:10:10.1  |2018-03-25 12:10:10.1  |\n",
      "|5  |2018-11-21 11:11:11.111 |2018-11-21 10:11:11.111|2018-11-21 11:11:11.111|\n",
      "|6  |2018-11-21 11:11:11.111Z|2018-11-21 11:11:11.111|2018-11-21 12:11:11.111|\n",
      "|7  |2018-12-22 22:22:22.222 |2018-12-22 21:22:22.222|2018-12-22 22:22:22.222|\n",
      "+---+------------------------+-----------------------+-----------------------+\n",
      "\n"
     ]
    }
   ],
   "source": [
    "df\n",
    "   .withColumn(\"myTS_UTC\", to_utc_timestamp($\"myTS\", \"Europe/Paris\"))\n",
    "   .withColumn(\"myTS_UTC+1\", from_utc_timestamp($\"myTS_UTC\", \"Europe/Paris\"))\n",
    "    .show(false)"
   ]
  },
  {
   "cell_type": "markdown",
   "metadata": {},
   "source": [
    "The column `myTS` is the original timestamp in string type, `myTS_UTC` represents the timestamp in UTC and `myTS_UTC+1` get that timestamp and shows the timestamp in UTC+1.\n",
    "\n",
    "As we can see, **it also applies the DST correctly**: on 25th March it begins [DST in 2018](https://www.timeanddate.com/time/dst/2018.html) and because at that time we are in UTC+2, **the difference is 2 hours**: `2018-03-25 10:10:10.1` UTC timestamp vs `2018-03-25 12:10:10.1` UTC+1 timestamp.\n",
    "\n",
    "\n",
    "## How our timezone affects the timestamps with Z\n",
    "Now, we will do the same test but setting our timezone to UTC+3 in order to see how the timestamps with Z (UTC) differs respect the one with no Z."
   ]
  },
  {
   "cell_type": "code",
   "execution_count": 9,
   "metadata": {},
   "outputs": [],
   "source": [
    "spark.conf.set(\"spark.sql.session.timeZone\", \"Europe/Moscow\") // UTC+3"
   ]
  },
  {
   "cell_type": "markdown",
   "metadata": {},
   "source": [
    "And now run the same code as before:"
   ]
  },
  {
   "cell_type": "code",
   "execution_count": 10,
   "metadata": {},
   "outputs": [
    {
     "name": "stdout",
     "output_type": "stream",
     "text": [
      "+---+------------------------+-----------------------+-----------------------+\n",
      "|id |myTS                    |myTS_UTC               |myTS_UTC+1             |\n",
      "+---+------------------------+-----------------------+-----------------------+\n",
      "|1  |2018-03-24 10:10:10.100 |2018-03-24 09:10:10.1  |2018-03-24 10:10:10.1  |\n",
      "|2  |2018-03-24 10:10:10.100Z|2018-03-24 12:10:10.1  |2018-03-24 13:10:10.1  |\n",
      "|3  |2018-03-25 10:10:10.100 |2018-03-25 08:10:10.1  |2018-03-25 10:10:10.1  |\n",
      "|4  |2018-03-25 10:10:10.100Z|2018-03-25 11:10:10.1  |2018-03-25 13:10:10.1  |\n",
      "|5  |2018-11-21 11:11:11.111 |2018-11-21 10:11:11.111|2018-11-21 11:11:11.111|\n",
      "|6  |2018-11-21 11:11:11.111Z|2018-11-21 13:11:11.111|2018-11-21 14:11:11.111|\n",
      "|7  |2018-12-22 22:22:22.222 |2018-12-22 21:22:22.222|2018-12-22 22:22:22.222|\n",
      "+---+------------------------+-----------------------+-----------------------+\n",
      "\n"
     ]
    }
   ],
   "source": [
    "df\n",
    "   .withColumn(\"myTS_UTC\", to_utc_timestamp($\"myTS\", \"Europe/Paris\"))\n",
    "   .withColumn(\"myTS_UTC+1\", from_utc_timestamp($\"myTS_UTC\", \"Europe/Paris\"))\n",
    "    .show(false)"
   ]
  },
  {
   "cell_type": "markdown",
   "metadata": {},
   "source": [
    "What happened?\n",
    "\n",
    "**The normal timestamp (the one with no Z)**, when converted to UTC, it does not care about configured TZ, it only uses the one indicated in the function parameter.\n",
    "\n",
    "**The UTC timestamp (the one with Z)** takes into account our current TZ (Moscow UTC+3) and because of this, when converted to UTC, it calculates based on the fact that timestamp is actually 13h (Moscow UTC+3). `to_utc_timestamp` function gets the 13h interpreted as a Paris TZ (UTC+1), so final conversion is the result of subtracting that Paris UTC+1 hour from the timestamp.\n",
    "\n",
    "The exception here is 25th March: in this case the difference is only 1h because [in Moscow there was no DST in 2018](https://www.timeanddate.com/time/change/russia/moscow).\n",
    "\n",
    "For a clearer information, here we can see how the Z takes into consideration our timezone whereas the timestamp with no Z has no change:\n",
    "\n",
    "![Timestamps and timezones](../files/timestamps_timezones.png \"Timestamps and timezones\")\n",
    "\n"
   ]
  }
 ],
 "metadata": {
  "kernelspec": {
   "display_name": "Scala 2.11.11",
   "language": "scala",
   "name": "scala"
  },
  "language_info": {
   "codemirror_mode": "text/x-scala",
   "file_extension": ".scala",
   "mimetype": "text/x-scala",
   "name": "scala211",
   "nbconvert_exporter": "script",
   "pygments_lexer": "scala",
   "version": "2.11.11"
  }
 },
 "nbformat": 4,
 "nbformat_minor": 2
}
